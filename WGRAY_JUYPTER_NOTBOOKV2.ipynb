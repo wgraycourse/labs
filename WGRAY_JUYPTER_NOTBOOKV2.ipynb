{
  "metadata": {
    "kernelspec": {
      "name": "python",
      "display_name": "Python (Pyodide)",
      "language": "python"
    },
    "language_info": {
      "codemirror_mode": {
        "name": "python",
        "version": 3
      },
      "file_extension": ".py",
      "mimetype": "text/x-python",
      "name": "python",
      "nbconvert_exporter": "python",
      "pygments_lexer": "ipython3",
      "version": "3.8"
    }
  },
  "nbformat_minor": 4,
  "nbformat": 4,
  "cells": [
    {
      "cell_type": "markdown",
      "source": "# ***Wanda Gray Notebook***",
      "metadata": {
        "tags": [],
        "editable": true,
        "slideshow": {
          "slide_type": ""
        }
      }
    },
    {
      "cell_type": "markdown",
      "source": "## This is the introduction to Lab: Using Markdowns in Jupyter Notebooks",
      "metadata": {}
    },
    {
      "cell_type": "markdown",
      "source": "Excercise #4: Data Science languages\n1. Python\n2. Java\n3. SQL\n4. R\n",
      "metadata": {}
    },
    {
      "cell_type": "markdown",
      "source": "Excercise #5: DS Libraries \n- Pandas\n- TensorFlow\n- NumPy\n- Matplotlib\n- Keras\n- PyTorch\n- Seaborn\n- Scikit-learn",
      "metadata": {}
    },
    {
      "cell_type": "markdown",
      "source": "Excercise #6: Data Science Tools (### ***Sample***)\n| Tool | Type |\n| -------------| ------ |\n| **Database** |  |\n|  | PostgreSQL |\n|  | Apache CouchDB |\n|  | MongoDB|\n||MySQL|\n|**Data Integration and Transformation Tools**| |\n|| Apache Airflow|\n||Kubeflow|\n||Apache Kafka|\n|**Data Visualization Tools**||\n||PixieDust|\n||Hue|\n||Kibana|\n|**Model Deployment Tools**||\n||Apache PredictionIO|\n||Kubernetes|\n||Apache Seldon|\n|**Model Monitoring and Assessment Tools**||\n||ModelDB|\n||IBM AI Explainability 360|\n||IBM Adversarial Robustness 360 Toolbox|\n|**Code Development and Execution Tools**||\n||Jupyter IDE|\n||RStudio|\n||Microsoft Visual Studio|\n\n\n",
      "metadata": {}
    },
    {
      "cell_type": "markdown",
      "source": "Excercise #7 Arithmetic expression examples\n+ Addition: 8 **+** 14  (answer=22)\n+ Subtraction: 14 **-** 8 (answer=6)\n+ Multiplication: 8 * 14 (answer=112)\n+ Division: 8 **/** 2 results in (answer=4)\n\n",
      "metadata": {}
    },
    {
      "cell_type": "code",
      "source": "#Excercise #8 Multiply and add numbers\nnum1=8\nnum2=14\naddresult = num1+num2\nmultiresult = num1*num2\nprint(\"Excercise #8:\\n\")\nprint(f\"Addition: {num1}+{num2}={addresult}\")\nprint(f\"Multiplication: {num1}*{num2}={multiresult}\\n\")\n\n",
      "metadata": {
        "trusted": true
      },
      "outputs": [
        {
          "name": "stdout",
          "text": "Excercise #8\n\nAddition: 8+14=22\nMultiplication: 8*14=112\n\n",
          "output_type": "stream"
        }
      ],
      "execution_count": 12
    },
    {
      "cell_type": "code",
      "source": "#Excercise #9 convert minutes to hours\nminutes = 90\nhours = minutes / 60\nprint(f\"Excercise#9:\\n{minutes} minutes is equal to {hours} hours\")\n",
      "metadata": {
        "trusted": true
      },
      "outputs": [
        {
          "name": "stdout",
          "text": "Excercise#9:\n90 minutes is equal to 1.5 hours\n",
          "output_type": "stream"
        }
      ],
      "execution_count": 10
    },
    {
      "cell_type": "markdown",
      "source": "Excercise #10 Objectives\n+ Understand Juypter IDE\n+ Learn and Practice how to create markdowns\n+ Learn and Practice GitHub\n+ Share with other students\n",
      "metadata": {}
    },
    {
      "cell_type": "markdown",
      "source": "Excercise #11 Author\n# Author\n[Wanda Gray](https://github.com/wgraycourse)",
      "metadata": {}
    },
    {
      "cell_type": "markdown",
      "source": "Excercise #12 Screenshots\n- ![Screenshots #1](https://github.com/wgraycourse/labs/blob/main/WGrayScreenshot.png)\n- ![Screenshots #2](https://github.com/wgraycourse/labs/blob/main/WGrayScreenshot.png)\n",
      "metadata": {}
    }
  ]
}